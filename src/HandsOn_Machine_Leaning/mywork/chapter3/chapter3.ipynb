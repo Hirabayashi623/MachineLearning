{
 "cells": [
  {
   "cell_type": "markdown",
   "metadata": {},
   "source": [
    "### MNISTデータのダウンロード"
   ]
  },
  {
   "cell_type": "code",
   "execution_count": 1,
   "metadata": {},
   "outputs": [],
   "source": [
    "try:\n",
    "    import urllib.request\n",
    "except ImportError:\n",
    "    raise ImportError('You should use Python 3.x')\n",
    "import os.path\n",
    "import gzip\n",
    "import pickle\n",
    "import os\n",
    "import numpy as np\n",
    "from matplotlib import pyplot as plt"
   ]
  },
  {
   "cell_type": "code",
   "execution_count": 2,
   "metadata": {},
   "outputs": [],
   "source": [
    "import warnings\n",
    "warnings.filterwarnings('ignore')"
   ]
  },
  {
   "cell_type": "code",
   "execution_count": 3,
   "metadata": {},
   "outputs": [],
   "source": [
    "train_num = 60000\n",
    "test_num = 10000\n",
    "img_dim = (1, 28, 28)\n",
    "img_size = 784"
   ]
  },
  {
   "cell_type": "code",
   "execution_count": 4,
   "metadata": {},
   "outputs": [],
   "source": [
    "url_base = 'http://yann.lecun.com/exdb/mnist/'\n",
    "key_file = {\n",
    "    'train_img':'train-images-idx3-ubyte.gz',\n",
    "    'train_label':'train-labels-idx1-ubyte.gz',\n",
    "    'test_img':'t10k-images-idx3-ubyte.gz',\n",
    "    'test_label':'t10k-labels-idx1-ubyte.gz'\n",
    "}"
   ]
  },
  {
   "cell_type": "code",
   "execution_count": 5,
   "metadata": {},
   "outputs": [],
   "source": [
    "dl_file = os.path.join('data', 'mnist.pkl')"
   ]
  },
  {
   "cell_type": "code",
   "execution_count": 6,
   "metadata": {},
   "outputs": [],
   "source": [
    "def _download(file_name):\n",
    "    if os.path.exists(dl_file):\n",
    "        return\n",
    "    \n",
    "    print(\"download start.\")\n",
    "    urllib.request.urlretrieve(url_base + file_name, os.path.join('data', file_name))\n",
    "    print(\"download finished!\")"
   ]
  },
  {
   "cell_type": "code",
   "execution_count": 7,
   "metadata": {},
   "outputs": [],
   "source": [
    "def download_mnist():\n",
    "    for file in key_file.values():\n",
    "        _download(file)"
   ]
  },
  {
   "cell_type": "code",
   "execution_count": 8,
   "metadata": {
    "scrolled": true
   },
   "outputs": [],
   "source": [
    "download_mnist()"
   ]
  },
  {
   "cell_type": "code",
   "execution_count": 9,
   "metadata": {},
   "outputs": [],
   "source": [
    "def load_label(file_name):\n",
    "    file_path = os.path.join('data', file_name)\n",
    "    \n",
    "    with gzip.open(file_path, 'rb') as f:\n",
    "            labels = np.frombuffer(f.read(), np.uint8, offset=8)\n",
    "    \n",
    "    return labels\n",
    "\n",
    "def load_img(file_name):\n",
    "    file_path = os.path.join('data', file_name)\n",
    "    \n",
    "    with gzip.open(file_path, 'rb') as f:\n",
    "            data = np.frombuffer(f.read(), np.uint8, offset=16)\n",
    "    data = data.reshape(-1, 784)\n",
    "    \n",
    "    return data"
   ]
  },
  {
   "cell_type": "code",
   "execution_count": 10,
   "metadata": {},
   "outputs": [],
   "source": [
    "# データをファイルに保存\n",
    "def save(data, file):\n",
    "    with open(file, 'wb') as f:\n",
    "        pickle.dump(data, f, -1)\n",
    "\n",
    "# データをファイルから呼出\n",
    "def load(file):\n",
    "    with open(file, 'rb') as f:\n",
    "        data = pickle.load(f)\n",
    "    return data"
   ]
  },
  {
   "cell_type": "code",
   "execution_count": 11,
   "metadata": {},
   "outputs": [],
   "source": [
    "dataset = {}\n",
    "dataset['train_img']   = load_img(key_file['train_img'])\n",
    "dataset['train_label'] = load_label(key_file['train_label'])    \n",
    "dataset['test_img']    = load_img(key_file['test_img'])\n",
    "dataset['test_label']  = load_label(key_file['test_label'])\n",
    "\n",
    "save(dataset, os.path.join('data', 'mnist.pkl'))"
   ]
  },
  {
   "cell_type": "code",
   "execution_count": 12,
   "metadata": {},
   "outputs": [],
   "source": [
    "# 28×28のイメージデータを表示する\n",
    "def showImage(image, reshape=True, x=28, y=28):\n",
    "    if reshape:\n",
    "        image = image.reshape(x, y)\n",
    "    plt.imshow(image\n",
    "               , cmap=matplotlib.cm.binary\n",
    "               , interpolation='nearest')\n",
    "    plt.show()"
   ]
  },
  {
   "cell_type": "code",
   "execution_count": 13,
   "metadata": {},
   "outputs": [
    {
     "data": {
      "image/png": "[encoded data removed]",
      "text/plain": [
       "<Figure size 432x288 with 1 Axes>"
      ]
     },
     "metadata": {},
     "output_type": "display_data"
    }
   ],
   "source": [
    "import matplotlib\n",
    "showImage(dataset['train_img'][0])"
   ]
  },
  {
   "cell_type": "markdown",
   "metadata": {},
   "source": [
    "# 2項分類器の訓練\n",
    "* 問題を単純化して1個の数字だけを識別できるようにする\n",
    " * 5か5以外の二つのクラスに分類する"
   ]
  },
  {
   "cell_type": "code",
   "execution_count": 14,
   "metadata": {},
   "outputs": [],
   "source": [
    "# データのロード\n",
    "data = load(os.path.join('data', 'mnist.pkl'))\n",
    "x_train = data['train_img']\n",
    "x_test  = data['test_img']\n",
    "y_train = data['train_label']\n",
    "y_test  = data['test_label']"
   ]
  },
  {
   "cell_type": "markdown",
   "metadata": {},
   "source": [
    "## 確率的勾配降下法\n",
    "* SGD\n",
    "* 訓練データを１つ１つ使いながら損失を計算\n",
    " * 損失を最小化するような方向へ更新（勾配降下）\n",
    " * データは毎周ランダムで並び替えられる"
   ]
  },
  {
   "cell_type": "code",
   "execution_count": 15,
   "metadata": {},
   "outputs": [],
   "source": [
    "# ここで使うデータを準備する\n",
    "sgd_data_file = os.path.join('data', 'sgd_ini.pkl')\n",
    "if os.path.exists(sgd_data_file):\n",
    "    data = load(sgd_data_file)\n",
    "else:\n",
    "    mnist = load(os.path.join('data', 'mnist.pkl'))\n",
    "    data = {\n",
    "        'train': {\n",
    "            'data' : mnist['train_img'],\n",
    "            'label': mnist['train_label'] == 5\n",
    "        },\n",
    "        'test': {\n",
    "            'data' : mnist['test_img'],\n",
    "            'label': mnist['test_label'] == 5\n",
    "        }\n",
    "    }\n",
    "    # 次から直接使えるようにファイルに保存\n",
    "    save(data, sgd_data_file)"
   ]
  },
  {
   "cell_type": "code",
   "execution_count": 16,
   "metadata": {},
   "outputs": [],
   "source": [
    "from sklearn.linear_model import SGDClassifier"
   ]
  },
  {
   "cell_type": "code",
   "execution_count": 17,
   "metadata": {},
   "outputs": [
    {
     "data": {
      "text/plain": [
       "{'train': {'data': array([[0, 0, 0, ..., 0, 0, 0],\n",
       "         [0, 0, 0, ..., 0, 0, 0],\n",
       "         [0, 0, 0, ..., 0, 0, 0],\n",
       "         ...,\n",
       "         [0, 0, 0, ..., 0, 0, 0],\n",
       "         [0, 0, 0, ..., 0, 0, 0],\n",
       "         [0, 0, 0, ..., 0, 0, 0]], dtype=uint8),\n",
       "  'label': array([ True, False, False, ...,  True, False, False])},\n",
       " 'test': {'data': array([[0, 0, 0, ..., 0, 0, 0],\n",
       "         [0, 0, 0, ..., 0, 0, 0],\n",
       "         [0, 0, 0, ..., 0, 0, 0],\n",
       "         ...,\n",
       "         [0, 0, 0, ..., 0, 0, 0],\n",
       "         [0, 0, 0, ..., 0, 0, 0],\n",
       "         [0, 0, 0, ..., 0, 0, 0]], dtype=uint8),\n",
       "  'label': array([False, False, False, ..., False,  True, False])}}"
      ]
     },
     "execution_count": 17,
     "metadata": {},
     "output_type": "execute_result"
    }
   ],
   "source": [
    "data"
   ]
  },
  {
   "cell_type": "code",
   "execution_count": 18,
   "metadata": {},
   "outputs": [
    {
     "data": {
      "text/plain": [
       "SGDClassifier(alpha=0.0001, average=False, class_weight=None, epsilon=0.1,\n",
       "       eta0=0.0, fit_intercept=True, l1_ratio=0.15,\n",
       "       learning_rate='optimal', loss='hinge', max_iter=None, n_iter=None,\n",
       "       n_jobs=1, penalty='l2', power_t=0.5, random_state=42, shuffle=True,\n",
       "       tol=None, verbose=0, warm_start=False)"
      ]
     },
     "execution_count": 18,
     "metadata": {},
     "output_type": "execute_result"
    }
   ],
   "source": [
    "sgd_clf = SGDClassifier(random_state=42)\n",
    "sgd_clf.fit(data['train']['data'], data['train']['label'])"
   ]
  },
  {
   "cell_type": "code",
   "execution_count": 19,
   "metadata": {},
   "outputs": [
    {
     "data": {
      "image/png": "[encoded data removed]",
      "text/plain": [
       "<Figure size 432x288 with 1 Axes>"
      ]
     },
     "metadata": {},
     "output_type": "display_data"
    },
    {
     "data": {
      "text/plain": [
       "array([False])"
      ]
     },
     "execution_count": 19,
     "metadata": {},
     "output_type": "execute_result"
    }
   ],
   "source": [
    "sample = data['test']['data'][0]\n",
    "anster = data['test']['label'][0]\n",
    "showImage(sample)\n",
    "sgd_clf.predict([sample])"
   ]
  },
  {
   "cell_type": "markdown",
   "metadata": {},
   "source": [
    "## 性能指標\n",
    "### 交差検証を使った正解率の測定\n",
    "* 交差検証の実装を自力で行う\n",
    " * よりきめ細かい交差検証の管理ができる"
   ]
  },
  {
   "cell_type": "code",
   "execution_count": 20,
   "metadata": {},
   "outputs": [],
   "source": [
    "from sklearn.model_selection import StratifiedKFold\n",
    "from sklearn.base import clone"
   ]
  },
  {
   "cell_type": "code",
   "execution_count": 21,
   "metadata": {},
   "outputs": [],
   "source": [
    "# StratifiedKFoldは層化抽出のためのインデックスを提供してくれるクラス\n",
    "skfolds = StratifiedKFold(n_splits=3, random_state=42)"
   ]
  },
  {
   "cell_type": "code",
   "execution_count": 22,
   "metadata": {},
   "outputs": [
    {
     "name": "stdout",
     "output_type": "stream",
     "text": [
      "95.32 (19064 / 20000)\n",
      "95.12 (19025 / 20000)\n",
      "96.25 (19250 / 20000)\n"
     ]
    }
   ],
   "source": [
    "for train_index, test_index in skfolds.split(data['train']['data'], data['train']['label']):\n",
    "    # 分類器の深いコピー\n",
    "    clone_clf = clone(sgd_clf)\n",
    "    # 層化抽出\n",
    "    train_fold       = data['train']['data'][train_index]\n",
    "    train_fold_label = data['train']['label'][train_index]\n",
    "    test_fold        = data['train']['data'][test_index]\n",
    "    test_fold_label  = data['train']['label'][test_index]\n",
    "    # 学習\n",
    "    clone_clf.fit(train_fold, train_fold_label)\n",
    "    # テストデータから推定値を取得する\n",
    "    predict = clone_clf.predict(test_fold)\n",
    "    # 正解数を計算\n",
    "    n_correct = sum(predict == test_fold_label)\n",
    "    # 計測値を表示\n",
    "    print('%.2f (%d / %d)' % (n_correct * 100 / len(predict), n_correct, len(predict)))"
   ]
  },
  {
   "cell_type": "code",
   "execution_count": 23,
   "metadata": {},
   "outputs": [],
   "source": [
    "from sklearn.model_selection import cross_val_score"
   ]
  },
  {
   "cell_type": "markdown",
   "metadata": {},
   "source": [
    "### K分割交差検証\n",
    "* 訓練データをK分割\n",
    "* 検証用のフォールド以外用いて訓練\n",
    "* 検証用のフォールドで評価"
   ]
  },
  {
   "cell_type": "code",
   "execution_count": 24,
   "metadata": {},
   "outputs": [
    {
     "data": {
      "text/plain": [
       "array([0.9532 , 0.95125, 0.9625 ])"
      ]
     },
     "execution_count": 24,
     "metadata": {},
     "output_type": "execute_result"
    }
   ],
   "source": [
    "cross_val_score(sgd_clf # 測定器を指定\n",
    "                , data['train']['data'] # 訓練データ\n",
    "                , data['train']['label'] # 正解ラベル\n",
    "                , cv=3 # 分割数\n",
    "                , scoring='accuracy') # 評価方法（accuracy：正解率）"
   ]
  },
  {
   "cell_type": "markdown",
   "metadata": {},
   "source": [
    "### 考察\n",
    "* このデータセットでは「５」は10％\n",
    "* 「５」でないと予測すると90%の正解率を出せるため、あまりイケてる結果ではない\n",
    "* データの割合に偏りがあるとこんなことになる"
   ]
  },
  {
   "cell_type": "markdown",
   "metadata": {},
   "source": [
    "### 混同行列\n",
    "* 「クラスAのインスタンスがクラスBに分類された回数を数える」ということができる"
   ]
  },
  {
   "cell_type": "code",
   "execution_count": 25,
   "metadata": {},
   "outputs": [],
   "source": [
    "# cross_val_predictはK分割交差検証＋個々のクラスに対する予測結果を取得\n",
    "from sklearn.model_selection import cross_val_predict"
   ]
  },
  {
   "cell_type": "code",
   "execution_count": 26,
   "metadata": {},
   "outputs": [],
   "source": [
    "cvp = cross_val_predict(sgd_clf\n",
    "                       , data['train']['data']\n",
    "                       , data['train']['label']\n",
    "                       , cv=3)"
   ]
  },
  {
   "cell_type": "code",
   "execution_count": 27,
   "metadata": {},
   "outputs": [
    {
     "data": {
      "text/plain": [
       "array([[52992,  1587],\n",
       "       [ 1074,  4347]], dtype=int64)"
      ]
     },
     "execution_count": 27,
     "metadata": {},
     "output_type": "execute_result"
    }
   ],
   "source": [
    "# confusion_matrix：混同行列を得るための関数\n",
    "from sklearn.metrics import confusion_matrix\n",
    "confusion_matrix(data['train']['label']\n",
    "                 , cvp)"
   ]
  },
  {
   "cell_type": "markdown",
   "metadata": {},
   "source": [
    "### 混合行列の各要素\n",
    "* 真陰性：True  Negative　⇒　5以外が正しく認識されている\n",
    "* 偽陽性：False Positive　⇒　5以外が誤って認識されている\n",
    "* 偽陰性：False Negative　⇒　5が正しく認識されている\n",
    "* 真陰性：True  Positive　⇒　5が誤って認識されている\n",
    "### 適合率\n",
    "* 5だと認識されたもののうち、5が含まれる割合\n",
    "* TP / ( TP + FP )\n",
    "### 再現率\n",
    "* 5が5だと認識される割合\n",
    "* TP / ( TP + FN )\n",
    "### F値\n",
    "* 適合率と再現率の調和平均\n",
    "* 2 / ( 1 / 適合率 + 1 / 再現率 )"
   ]
  },
  {
   "cell_type": "code",
   "execution_count": 28,
   "metadata": {},
   "outputs": [],
   "source": [
    "from sklearn.metrics import precision_score, recall_score, f1_score"
   ]
  },
  {
   "cell_type": "code",
   "execution_count": 29,
   "metadata": {},
   "outputs": [],
   "source": [
    "result = {}\n",
    "# 適合率の計算\n",
    "result['prediction'] = precision_score(data['train']['label'], cvp)\n",
    "# 再現率の計算\n",
    "result['recall']     = recall_score(data['train']['label'], cvp)\n",
    "# F値の計算\n",
    "result['F']          = f1_score(data['train']['label'], cvp)"
   ]
  },
  {
   "cell_type": "code",
   "execution_count": 30,
   "metadata": {},
   "outputs": [
    {
     "name": "stdout",
     "output_type": "stream",
     "text": [
      "{'prediction': 0.7325581395348837, 'recall': 0.8018815716657444, 'F': 0.765653896961691}\n"
     ]
    }
   ],
   "source": [
    "print(result)"
   ]
  },
  {
   "cell_type": "markdown",
   "metadata": {},
   "source": [
    "### 適合率と再現率のトレードオフ\n",
    "* クラス判定に用いる閾値をいじることで分類器のメンテナンスが可能"
   ]
  },
  {
   "cell_type": "code",
   "execution_count": 31,
   "metadata": {},
   "outputs": [],
   "source": [
    "# 予測スコアを取得\n",
    "score = sgd_clf.decision_function(data['train']['data'])\n",
    "# 閾値を設定\n",
    "threshold = 0\n",
    "# 予測\n",
    "predict = (score > threshold)"
   ]
  },
  {
   "cell_type": "code",
   "execution_count": 32,
   "metadata": {},
   "outputs": [
    {
     "data": {
      "text/plain": [
       "array([False, False, False, ...,  True, False, False])"
      ]
     },
     "execution_count": 32,
     "metadata": {},
     "output_type": "execute_result"
    }
   ],
   "source": [
    "predict"
   ]
  },
  {
   "cell_type": "code",
   "execution_count": 33,
   "metadata": {},
   "outputs": [],
   "source": [
    "cvp_scores = cross_val_predict(sgd_clf\n",
    "                          , data['train']['data']\n",
    "                          , data['train']['label']\n",
    "                          , cv=3\n",
    "                          , method=\"decision_function\")"
   ]
  },
  {
   "cell_type": "code",
   "execution_count": 34,
   "metadata": {},
   "outputs": [
    {
     "data": {
      "text/plain": [
       "array([ 130454.39322866, -292310.89416081, -851504.62149277, ...,\n",
       "        361078.59565149, -432547.19353153, -420755.44332381])"
      ]
     },
     "execution_count": 34,
     "metadata": {},
     "output_type": "execute_result"
    }
   ],
   "source": [
    "cvp_scores"
   ]
  },
  {
   "cell_type": "code",
   "execution_count": 35,
   "metadata": {},
   "outputs": [],
   "source": [
    "from sklearn.metrics import precision_recall_curve\n",
    "precisions, recalls, thresholds = precision_recall_curve(data['train']['label'], cvp_scores)"
   ]
  },
  {
   "cell_type": "code",
   "execution_count": 36,
   "metadata": {},
   "outputs": [
    {
     "data": {
      "image/png": "[encoded data removed]",
      "text/plain": [
       "<Figure size 432x288 with 1 Axes>"
      ]
     },
     "metadata": {},
     "output_type": "display_data"
    }
   ],
   "source": [
    "# F値を無理やり計算\n",
    "f = 2 / (1 / precisions + 1 / recalls)\n",
    "\n",
    "plt.plot(thresholds, precisions[:-1], label='prediction')\n",
    "plt.plot(thresholds, recalls[:-1]   , label='recall')\n",
    "plt.plot(thresholds, f[:-1]         , label='f')\n",
    "plt.legend(loc='center left')\n",
    "plt.show()"
   ]
  },
  {
   "cell_type": "markdown",
   "metadata": {},
   "source": [
    "### ROC曲線\n",
    "* Reciever Operating Characteristic：受信者動作特性曲線\n",
    "* 偽陽性率に対する真陽性率をプロットしたもの\n",
    " * 偽陽性率：5でないデータが5だと認識された割合\n",
    "* 性能の比較にはAUC（曲線の下の面積）が使われる\n",
    "* 完璧な分類器　⇒　AUC=1\n",
    "* 無作為分類器　⇒　AUC=0.5"
   ]
  },
  {
   "cell_type": "code",
   "execution_count": 37,
   "metadata": {},
   "outputs": [],
   "source": [
    "from sklearn.metrics import roc_curve"
   ]
  },
  {
   "cell_type": "code",
   "execution_count": 38,
   "metadata": {},
   "outputs": [],
   "source": [
    "fpr, tpr, thresholds = roc_curve(data['train']['label'], cvp_scores)"
   ]
  },
  {
   "cell_type": "code",
   "execution_count": 39,
   "metadata": {},
   "outputs": [
    {
     "data": {
      "image/png": "[encoded data removed]",
      "text/plain": [
       "<Figure size 432x288 with 1 Axes>"
      ]
     },
     "metadata": {},
     "output_type": "display_data"
    }
   ],
   "source": [
    "plt.plot(thresholds, fpr, label='fpr')\n",
    "plt.plot(thresholds, tpr, label='tpr')\n",
    "plt.legend(loc='center left')\n",
    "plt.show()"
   ]
  },
  {
   "cell_type": "code",
   "execution_count": 40,
   "metadata": {},
   "outputs": [
    {
     "data": {
      "image/png": "[encoded data removed]",
      "text/plain": [
       "<Figure size 432x288 with 1 Axes>"
      ]
     },
     "metadata": {},
     "output_type": "display_data"
    }
   ],
   "source": [
    "plt.plot(fpr, tpr, label='roc curve')\n",
    "plt.legend(loc='right')\n",
    "plt.show()"
   ]
  },
  {
   "cell_type": "code",
   "execution_count": 41,
   "metadata": {},
   "outputs": [
    {
     "data": {
      "text/plain": [
       "0.9584692857783504"
      ]
     },
     "execution_count": 41,
     "metadata": {},
     "output_type": "execute_result"
    }
   ],
   "source": [
    "# AUCを計算する\n",
    "from sklearn.metrics import roc_auc_score\n",
    "roc_auc_score(data['train']['label'], cvp_scores)"
   ]
  },
  {
   "cell_type": "markdown",
   "metadata": {},
   "source": [
    "### ランダムフォレストで訓練＆性能比較\n",
    "* RandomForestClassifierには「decision_function()」がない\n",
    "* 代わりに確率を返す「predict_proba()」がある"
   ]
  },
  {
   "cell_type": "code",
   "execution_count": 42,
   "metadata": {},
   "outputs": [],
   "source": [
    "from sklearn.ensemble import RandomForestClassifier"
   ]
  },
  {
   "cell_type": "code",
   "execution_count": 43,
   "metadata": {},
   "outputs": [],
   "source": [
    "forest_clf = RandomForestClassifier(random_state=42)\n",
    "forest_prebas = cross_val_predict(forest_clf\n",
    "                                  , data['train']['data']\n",
    "                                  , data['train']['label']\n",
    "                                  , cv=3\n",
    "                                  , method=\"predict_proba\")"
   ]
  },
  {
   "cell_type": "code",
   "execution_count": 44,
   "metadata": {},
   "outputs": [
    {
     "data": {
      "text/plain": [
       "array([[0.1, 0.9],\n",
       "       [1. , 0. ],\n",
       "       [0.9, 0.1],\n",
       "       ...,\n",
       "       [0. , 1. ],\n",
       "       [1. , 0. ],\n",
       "       [1. , 0. ]])"
      ]
     },
     "execution_count": 44,
     "metadata": {},
     "output_type": "execute_result"
    }
   ],
   "source": [
    "forest_prebas"
   ]
  },
  {
   "cell_type": "code",
   "execution_count": 45,
   "metadata": {},
   "outputs": [],
   "source": [
    "# 陽性クラス（５である）確率を取得\n",
    "scores_forest = forest_prebas[:, 1]"
   ]
  },
  {
   "cell_type": "code",
   "execution_count": 46,
   "metadata": {},
   "outputs": [
    {
     "data": {
      "image/png": "[encoded data removed]",
      "text/plain": [
       "<Figure size 432x288 with 1 Axes>"
      ]
     },
     "metadata": {},
     "output_type": "display_data"
    }
   ],
   "source": [
    "# ROC曲線プロット\n",
    "fpr_forest, tpr_forest, thresholds_forest = roc_curve(data['train']['label'], scores_forest)\n",
    "plt.plot(thresholds_forest, fpr_forest, label='fpr')\n",
    "plt.plot(thresholds_forest, tpr_forest, label='tpr')\n",
    "plt.legend()\n",
    "plt.show()"
   ]
  },
  {
   "cell_type": "code",
   "execution_count": 47,
   "metadata": {},
   "outputs": [
    {
     "data": {
      "image/png": "[encoded data removed]",
      "text/plain": [
       "<Figure size 432x288 with 1 Axes>"
      ]
     },
     "metadata": {},
     "output_type": "display_data"
    }
   ],
   "source": [
    "plt.plot(fpr_forest, tpr_forest, label='roc curve')\n",
    "plt.legend()\n",
    "plt.show()"
   ]
  },
  {
   "cell_type": "code",
   "execution_count": 48,
   "metadata": {},
   "outputs": [
    {
     "data": {
      "text/plain": [
       "0.9920527492698306"
      ]
     },
     "execution_count": 48,
     "metadata": {},
     "output_type": "execute_result"
    }
   ],
   "source": [
    "roc_auc_score(data['train']['label'], scores_forest)"
   ]
  },
  {
   "cell_type": "code",
   "execution_count": 49,
   "metadata": {},
   "outputs": [
    {
     "data": {
      "image/png": "[encoded data removed]",
      "text/plain": [
       "<Figure size 432x288 with 1 Axes>"
      ]
     },
     "metadata": {},
     "output_type": "display_data"
    }
   ],
   "source": [
    "# 比較\n",
    "plt.plot(fpr, tpr, label='SGD')\n",
    "plt.plot(fpr_forest, tpr_forest, label='RandomForest')\n",
    "plt.legend()\n",
    "plt.show()"
   ]
  },
  {
   "cell_type": "markdown",
   "metadata": {},
   "source": [
    "# 多クラス分類\n",
    "* ランダムフォレスト分類器や単純ベイズ分類器は直接多クラスを処理できる\n",
    "* SVMや線形分類器では無理なので二項分類器を複数組み合わせることで実装\n",
    " * OVA法\n",
    "  * 10個のクラスに分類したければ10個の二項分類器（クラス１検出器、クラス２検出器、・・・）を訓練\n",
    "  * one versus all\n",
    " * OVO法\n",
    "  * one versus one\n",
    "  * すべてのクラスのペアに対して二項分類器を訓練する\n",
    "  * クラスがＮ個ならＮ×（Ｎ－１）／２個の分類器を訓練する"
   ]
  },
  {
   "cell_type": "code",
   "execution_count": 50,
   "metadata": {},
   "outputs": [],
   "source": [
    "# 計算に時間がかかりそうだから2度目からファイルから結果を取り込むように作り込む\n",
    "def getSGDMulticlassClassifier(update=False):\n",
    "    if update or not os.path.exists(os.path.join('data', 'sgd_mc_clf.pkl')):\n",
    "        mnist = load(os.path.join('data', 'mnist.pkl'))\n",
    "        data = {\n",
    "            'train': {\n",
    "                'image': mnist['train_img'],\n",
    "                'label': mnist['train_label'],\n",
    "            },\n",
    "            'test':  {\n",
    "                'image': mnist['test_img'],\n",
    "                'label': mnist['test_label'],\n",
    "            }\n",
    "        }\n",
    "        # 分類器を生成\n",
    "        clf = SGDClassifier(random_state=42)\n",
    "        # 分類器を訓練\n",
    "        clf.fit(data['train']['image'], data['train']['label'])\n",
    "        # 予測\n",
    "        predicts = clf.predict(data['train']['image'])\n",
    "        # 損失計算（交差検証法）\n",
    "        cvs = cross_val_score(clf, data['train']['image'], data['train']['label'], cv=3, scoring='accuracy')\n",
    "        # 予測結果取得\n",
    "        cvp = cross_val_predict(clf, data['train']['image'], data['train']['label'], cv=3)\n",
    "        # 混同行列取得\n",
    "        cm = confusion_matrix(data['train']['label'], cvp)\n",
    "        \n",
    "        dataset = {\n",
    "            'clf'     : clf,\n",
    "            'data'    : data,\n",
    "            'predicts': predicts,\n",
    "            'cvs'     : cvs,\n",
    "            'cvp'     : cvp,\n",
    "            'cm'      : cm,\n",
    "        }\n",
    "        \n",
    "        save(dataset, os.path.join('data', 'sgd_mc_clf.pkl'))\n",
    "    else:\n",
    "        dataset = load(os.path.join('data', 'sgd_mc_clf.pkl'))\n",
    "    \n",
    "    return dataset"
   ]
  },
  {
   "cell_type": "code",
   "execution_count": 51,
   "metadata": {},
   "outputs": [],
   "source": [
    "dataset_sgd_mc = getSGDMulticlassClassifier(update=False)"
   ]
  },
  {
   "cell_type": "code",
   "execution_count": 52,
   "metadata": {},
   "outputs": [
    {
     "data": {
      "text/plain": [
       "{'clf': SGDClassifier(alpha=0.0001, average=False, class_weight=None, epsilon=0.1,\n",
       "        eta0=0.0, fit_intercept=True, l1_ratio=0.15,\n",
       "        learning_rate='optimal', loss='hinge', max_iter=None, n_iter=None,\n",
       "        n_jobs=1, penalty='l2', power_t=0.5, random_state=42, shuffle=True,\n",
       "        tol=None, verbose=0, warm_start=False),\n",
       " 'data': {'train': {'image': array([[0, 0, 0, ..., 0, 0, 0],\n",
       "          [0, 0, 0, ..., 0, 0, 0],\n",
       "          [0, 0, 0, ..., 0, 0, 0],\n",
       "          ...,\n",
       "          [0, 0, 0, ..., 0, 0, 0],\n",
       "          [0, 0, 0, ..., 0, 0, 0],\n",
       "          [0, 0, 0, ..., 0, 0, 0]], dtype=uint8),\n",
       "   'label': array([5, 0, 4, ..., 5, 6, 8], dtype=uint8)},\n",
       "  'test': {'image': array([[0, 0, 0, ..., 0, 0, 0],\n",
       "          [0, 0, 0, ..., 0, 0, 0],\n",
       "          [0, 0, 0, ..., 0, 0, 0],\n",
       "          ...,\n",
       "          [0, 0, 0, ..., 0, 0, 0],\n",
       "          [0, 0, 0, ..., 0, 0, 0],\n",
       "          [0, 0, 0, ..., 0, 0, 0]], dtype=uint8),\n",
       "   'label': array([7, 2, 1, ..., 4, 5, 6], dtype=uint8)}},\n",
       " 'predicts': array([5, 0, 4, ..., 5, 6, 8], dtype=uint8),\n",
       " 'cvs': array([0.86872625, 0.87639382, 0.87848177]),\n",
       " 'cvp': array([5, 0, 4, ..., 5, 6, 8], dtype=uint8),\n",
       " 'cm': array([[5740,    4,   36,   17,   10,   30,   36,    5,   40,    5],\n",
       "        [   1, 6393,   46,   72,    7,   62,    5,   14,  123,   19],\n",
       "        [  51,   58, 5216,  149,   41,   42,   73,   49,  254,   25],\n",
       "        [  47,   38,  300, 5069,   18,  317,   28,   51,  158,  105],\n",
       "        [  14,   28,   83,   18, 5249,   12,   46,   20,   72,  300],\n",
       "        [  83,   24,   71,  194,   90, 4442,  119,   25,  250,  123],\n",
       "        [  72,   16,  152,   17,   63,   92, 5420,    5,   74,    7],\n",
       "        [  31,   36,  122,   58,  104,   36,    2, 5353,   37,  486],\n",
       "        [  79,  205,  169,  163,  117,  355,   40,   28, 4517,  178],\n",
       "        [  42,   46,   46,   93,  338,   96,    1,  134,   80, 5073]],\n",
       "       dtype=int64)}"
      ]
     },
     "execution_count": 52,
     "metadata": {},
     "output_type": "execute_result"
    }
   ],
   "source": [
    "dataset_sgd_mc"
   ]
  },
  {
   "cell_type": "markdown",
   "metadata": {},
   "source": [
    "### OVO法の実装"
   ]
  },
  {
   "cell_type": "code",
   "execution_count": 53,
   "metadata": {},
   "outputs": [],
   "source": [
    "from sklearn.multiclass import OneVsOneClassifier\n",
    "\n",
    "def getOVO(update=False):\n",
    "    if update or not os.path.exists(os.path.join('data', 'ovo.pkl')):\n",
    "        mnist = load(os.path.join('data', 'mnist.pkl'))\n",
    "        data = {\n",
    "            'train': {\n",
    "                'image': mnist['train_img'],\n",
    "                'label': mnist['train_label'],\n",
    "            },\n",
    "            'test':  {\n",
    "                'image': mnist['test_img'],\n",
    "                'label': mnist['test_label'],\n",
    "            }\n",
    "        }\n",
    "        # 分類器生成\n",
    "        ovo = OneVsOneClassifier(SGDClassifier(random_state=42))\n",
    "        # 分類器訓練\n",
    "        ovo.fit(data['train']['image'], data['train']['label'])\n",
    "        # 予測\n",
    "        predicts = ovo.predict(data['train']['image'])\n",
    "        # 損失計算（交差検証法）\n",
    "        cvs = cross_val_score(ovo, data['train']['image'], data['train']['label'], cv=3, scoring='accuracy')\n",
    "        \n",
    "        dataset_ovo = {\n",
    "            'clf'     : ovo,\n",
    "            'data'    : data,\n",
    "            'predicts': predicts,\n",
    "            'cvs'     : cvs,\n",
    "        }\n",
    "        save(dataset_ovo, os.path.join('data', 'ovo.pkl'))\n",
    "    else:\n",
    "        dataset_ovo = load(os.path.join('data', 'ovo.pkl'))\n",
    "    \n",
    "    return dataset_ovo"
   ]
  },
  {
   "cell_type": "code",
   "execution_count": 54,
   "metadata": {},
   "outputs": [],
   "source": [
    "dataset_ovo = getOVO(update=False)"
   ]
  },
  {
   "cell_type": "code",
   "execution_count": 55,
   "metadata": {},
   "outputs": [
    {
     "data": {
      "text/plain": [
       "{'clf': OneVsOneClassifier(estimator=SGDClassifier(alpha=0.0001, average=False, class_weight=None, epsilon=0.1,\n",
       "        eta0=0.0, fit_intercept=True, l1_ratio=0.15,\n",
       "        learning_rate='optimal', loss='hinge', max_iter=None, n_iter=None,\n",
       "        n_jobs=1, penalty='l2', power_t=0.5, random_state=42, shuffle=True,\n",
       "        tol=None, verbose=0, warm_start=False),\n",
       "           n_jobs=1),\n",
       " 'data': {'train': {'image': array([[0, 0, 0, ..., 0, 0, 0],\n",
       "          [0, 0, 0, ..., 0, 0, 0],\n",
       "          [0, 0, 0, ..., 0, 0, 0],\n",
       "          ...,\n",
       "          [0, 0, 0, ..., 0, 0, 0],\n",
       "          [0, 0, 0, ..., 0, 0, 0],\n",
       "          [0, 0, 0, ..., 0, 0, 0]], dtype=uint8),\n",
       "   'label': array([5, 0, 4, ..., 5, 6, 8], dtype=uint8)},\n",
       "  'test': {'image': array([[0, 0, 0, ..., 0, 0, 0],\n",
       "          [0, 0, 0, ..., 0, 0, 0],\n",
       "          [0, 0, 0, ..., 0, 0, 0],\n",
       "          ...,\n",
       "          [0, 0, 0, ..., 0, 0, 0],\n",
       "          [0, 0, 0, ..., 0, 0, 0],\n",
       "          [0, 0, 0, ..., 0, 0, 0]], dtype=uint8),\n",
       "   'label': array([7, 2, 1, ..., 4, 5, 6], dtype=uint8)}},\n",
       " 'predicts': array([5, 0, 4, ..., 5, 6, 8], dtype=uint8),\n",
       " 'cvs': array([0.88132374, 0.91529576, 0.91018653])}"
      ]
     },
     "execution_count": 55,
     "metadata": {},
     "output_type": "execute_result"
    }
   ],
   "source": [
    "dataset_ovo"
   ]
  },
  {
   "cell_type": "markdown",
   "metadata": {},
   "source": [
    "### ランダムフォレストでの多クラス分類"
   ]
  },
  {
   "cell_type": "code",
   "execution_count": 56,
   "metadata": {},
   "outputs": [],
   "source": [
    "def getRandomForestMulticlassClassifier(update=False):\n",
    "    if update or not os.path.exists(os.path.join('data', 'random_mc.pkl')):\n",
    "        mnist = load(os.path.join('data', 'mnist.pkl'))\n",
    "        data = {\n",
    "            'train': {\n",
    "                'image': mnist['train_img'],\n",
    "                'label': mnist['train_label'],\n",
    "            },\n",
    "            'test':  {\n",
    "                'image': mnist['test_img'],\n",
    "                'label': mnist['test_label'],\n",
    "            }\n",
    "        }\n",
    "        # 分類器生成\n",
    "        clf = RandomForestClassifier(random_state=42)\n",
    "        # 分類器訓練\n",
    "        clf.fit(data['train']['image'], data['train']['label'])\n",
    "        # 予測\n",
    "        predicts = clf.predict(data['train']['image'])\n",
    "        # 損失計算（交差検証法）\n",
    "        cvs = cross_val_score(clf, data['train']['image'], data['train']['label'], cv=3, scoring='accuracy')\n",
    "        # 予測結果取得\n",
    "        cvp = cross_val_predict(clf, data['train']['image'], data['train']['label'], cv=3)\n",
    "        # 混同行列取得\n",
    "        cm = confusion_matrix(data['train']['label'], cvp)\n",
    "        \n",
    "        dataset = {\n",
    "            'clf'     : clf,\n",
    "            'data'    : data,\n",
    "            'predicts': predicts,\n",
    "            'cvs'     : cvs,\n",
    "            'cm'      : cm,\n",
    "        }\n",
    "        save(dataset, os.path.join('data', 'random_mc.pkl'))\n",
    "    else:\n",
    "        dataset = load(os.path.join('data', 'random_mc.pkl'))\n",
    "    \n",
    "    return dataset"
   ]
  },
  {
   "cell_type": "code",
   "execution_count": 57,
   "metadata": {},
   "outputs": [],
   "source": [
    "dataset_random_mc = getRandomForestMulticlassClassifier(update=True)"
   ]
  },
  {
   "cell_type": "code",
   "execution_count": 58,
   "metadata": {},
   "outputs": [
    {
     "data": {
      "text/plain": [
       "{'clf': RandomForestClassifier(bootstrap=True, class_weight=None, criterion='gini',\n",
       "             max_depth=None, max_features='auto', max_leaf_nodes=None,\n",
       "             min_impurity_decrease=0.0, min_impurity_split=None,\n",
       "             min_samples_leaf=1, min_samples_split=2,\n",
       "             min_weight_fraction_leaf=0.0, n_estimators=10, n_jobs=1,\n",
       "             oob_score=False, random_state=42, verbose=0, warm_start=False),\n",
       " 'data': {'train': {'image': array([[0, 0, 0, ..., 0, 0, 0],\n",
       "          [0, 0, 0, ..., 0, 0, 0],\n",
       "          [0, 0, 0, ..., 0, 0, 0],\n",
       "          ...,\n",
       "          [0, 0, 0, ..., 0, 0, 0],\n",
       "          [0, 0, 0, ..., 0, 0, 0],\n",
       "          [0, 0, 0, ..., 0, 0, 0]], dtype=uint8),\n",
       "   'label': array([5, 0, 4, ..., 5, 6, 8], dtype=uint8)},\n",
       "  'test': {'image': array([[0, 0, 0, ..., 0, 0, 0],\n",
       "          [0, 0, 0, ..., 0, 0, 0],\n",
       "          [0, 0, 0, ..., 0, 0, 0],\n",
       "          ...,\n",
       "          [0, 0, 0, ..., 0, 0, 0],\n",
       "          [0, 0, 0, ..., 0, 0, 0],\n",
       "          [0, 0, 0, ..., 0, 0, 0]], dtype=uint8),\n",
       "   'label': array([7, 2, 1, ..., 4, 5, 6], dtype=uint8)}},\n",
       " 'predicts': array([5, 0, 4, ..., 5, 6, 8], dtype=uint8),\n",
       " 'cvs': array([0.94116177, 0.93949697, 0.94374156]),\n",
       " 'cm': array([[5801,    3,   18,    5,    8,   17,   33,    3,   32,    3],\n",
       "        [   1, 6622,   32,   16,   11,    9,   10,   13,   17,   11],\n",
       "        [  54,   22, 5642,   38,   41,   11,   31,   55,   51,   13],\n",
       "        [  32,   20,  128, 5648,   11,  103,   11,   50,   95,   33],\n",
       "        [  19,   19,   25,   10, 5531,   12,   39,   18,   29,  140],\n",
       "        [  44,   24,   28,  175,   29, 4970,   56,   13,   50,   32],\n",
       "        [  61,   17,   32,    5,   31,   56, 5689,    0,   24,    3],\n",
       "        [   9,   32,   98,   32,   60,    6,    3, 5920,   16,   89],\n",
       "        [  32,   62,   92,  130,   48,   99,   32,   19, 5267,   70],\n",
       "        [  40,   18,   36,   84,  170,   40,    7,  100,   56, 5398]],\n",
       "       dtype=int64)}"
      ]
     },
     "execution_count": 58,
     "metadata": {},
     "output_type": "execute_result"
    }
   ],
   "source": [
    "dataset_random_mc"
   ]
  },
  {
   "cell_type": "markdown",
   "metadata": {},
   "source": [
    "# 誤分類の分析"
   ]
  },
  {
   "cell_type": "code",
   "execution_count": 59,
   "metadata": {},
   "outputs": [
    {
     "data": {
      "text/plain": [
       "array([0, 1, 2, 3, 4, 5, 6, 7, 8, 9], dtype=uint8)"
      ]
     },
     "execution_count": 59,
     "metadata": {},
     "output_type": "execute_result"
    }
   ],
   "source": [
    "dataset_sgd_mc['clf'].classes_"
   ]
  },
  {
   "cell_type": "code",
   "execution_count": 60,
   "metadata": {},
   "outputs": [
    {
     "data": {
      "image/png": "[encoded data removed]",
      "text/plain": [
       "<Figure size 288x288 with 2 Axes>"
      ]
     },
     "metadata": {},
     "output_type": "display_data"
    }
   ],
   "source": [
    "# 混同行列を可視化\n",
    "plt.matshow(dataset_sgd_mc['cm'])\n",
    "plt.colorbar()\n",
    "plt.show()"
   ]
  },
  {
   "cell_type": "code",
   "execution_count": 61,
   "metadata": {},
   "outputs": [],
   "source": [
    "# ひと工夫\n",
    "# スケールを合わせる\n",
    "row_sums = dataset_sgd_mc['cm'].sum(axis=1, keepdims=True)\n",
    "norm_cm = dataset_sgd_mc['cm'] / row_sums\n",
    "# 対角要素を0に\n",
    "np.fill_diagonal(norm_cm, 0)"
   ]
  },
  {
   "cell_type": "code",
   "execution_count": 62,
   "metadata": {},
   "outputs": [
    {
     "data": {
      "image/png": "[encoded data removed]",
      "text/plain": [
       "<Figure size 288x288 with 2 Axes>"
      ]
     },
     "metadata": {},
     "output_type": "display_data"
    }
   ],
   "source": [
    "# 混同行列を可視化（2回目）\n",
    "plt.matshow(norm_cm)\n",
    "plt.colorbar()\n",
    "plt.show()"
   ]
  },
  {
   "cell_type": "markdown",
   "metadata": {},
   "source": [
    "### 考察\n",
    "* 色が明るい部分ほど誤って判定されやすい組み合わせ\n",
    "* 次のステップとしては例えば9と7の組み合わせに対して誤分類の修正を行う\n",
    " * 使えそうな前処理：scikit-omage, Pillow, OpenCV\n",
    "* ここで使用したのはSGD（線形モデル）\n",
    " * 各ピクセルに重み付けして計算\n",
    " * 平行移動や回転に弱い"
   ]
  },
  {
   "cell_type": "markdown",
   "metadata": {},
   "source": [
    "# 多ラベル分類\n",
    "* 1つのデータから複数のクラスに分類すること\n",
    " * 例）A,Cさんが移っている写真　⇒　A,Cクラスに分類する"
   ]
  },
  {
   "cell_type": "code",
   "execution_count": 63,
   "metadata": {},
   "outputs": [],
   "source": [
    "from sklearn.neighbors import KNeighborsClassifier\n",
    "\n",
    "def getKNeighborClassifierSample(update=False):\n",
    "    if update or not os.path.exists(os.path.join('data', 'kkn_clf_sample.pkl')):\n",
    "        mnist = load(os.path.join('data', 'mnist.pkl'))\n",
    "        train_multilabel = np.c_[\n",
    "            ( mnist['train_label'] >= 7 ),\n",
    "            ( mnist['train_label'] % 2 == 1 ),\n",
    "        ]\n",
    "        test_multilabel = np.c_[\n",
    "            ( mnist['test_label'] >= 7 ),\n",
    "            ( mnist['test_label'] % 2 == 1 ),\n",
    "        ]\n",
    "        data = {\n",
    "            'train': {\n",
    "                'image': mnist['train_img'],\n",
    "                'label': train_multilabel,\n",
    "            },\n",
    "            'test':  {\n",
    "                'image': mnist['test_img'],\n",
    "                'label': test_multilabel,\n",
    "            }\n",
    "        }\n",
    "        # 分類器生成\n",
    "        clf = KNeighborsClassifier()\n",
    "        # 分類器訓練\n",
    "        clf.fit(data['train']['image'], data['train']['label'])\n",
    "        # 予測\n",
    "        predicts = clf.predict(data['train']['image'])\n",
    "#         # 損失計算（交差検証法）\n",
    "#         cvs = cross_val_score(clf, data['train']['image'], data['train']['label'], cv=3, scoring='accuracy')\n",
    "#         # 予測結果取得\n",
    "#         cvp = cross_val_predict(clf, data['train']['image'], data['train']['label'], cv=3)\n",
    "#         # 混同行列取得\n",
    "#         cm = confusion_matrix(data['train']['label'], cvp)\n",
    "        \n",
    "        dataset = {\n",
    "            'clf'     : clf,\n",
    "            'data'    : data,\n",
    "            'predicts': predicts,\n",
    "#             'cvs'     : cvs,\n",
    "#             'cm'      : cm,\n",
    "        }\n",
    "        save(dataset, os.path.join('data', 'kkn_clf_sample.pkl'))\n",
    "    else:\n",
    "        dataset = load(os.path.join('data', 'kkn_clf_sample.pkl'))\n",
    "    \n",
    "    return dataset"
   ]
  },
  {
   "cell_type": "code",
   "execution_count": 64,
   "metadata": {},
   "outputs": [],
   "source": [
    "# dataset_kkn_sample = getKNeighborClassifierSample()\n",
    "# dataset_kkn_sample"
   ]
  },
  {
   "cell_type": "code",
   "execution_count": 65,
   "metadata": {},
   "outputs": [],
   "source": [
    "mnist = load(os.path.join('data', 'mnist.pkl'))\n",
    "train_multilabel = np.c_[\n",
    "    ( mnist['train_label'] >= 7 ),\n",
    "    ( mnist['train_label'] % 2 == 1 ),\n",
    "]\n",
    "test_multilabel = np.c_[\n",
    "    ( mnist['test_label'] >= 7 ),\n",
    "    ( mnist['test_label'] % 2 == 1 ),\n",
    "]\n",
    "data = {\n",
    "    'train': {\n",
    "        'image': mnist['train_img'],\n",
    "        'label': train_multilabel,\n",
    "    },\n",
    "    'test':  {\n",
    "        'image': mnist['test_img'],\n",
    "        'label': test_multilabel,\n",
    "    }\n",
    "}"
   ]
  },
  {
   "cell_type": "code",
   "execution_count": 66,
   "metadata": {},
   "outputs": [],
   "source": [
    "clf = KNeighborsClassifier()"
   ]
  },
  {
   "cell_type": "code",
   "execution_count": 68,
   "metadata": {},
   "outputs": [
    {
     "data": {
      "text/plain": [
       "KNeighborsClassifier(algorithm='auto', leaf_size=30, metric='minkowski',\n",
       "           metric_params=None, n_jobs=1, n_neighbors=5, p=2,\n",
       "           weights='uniform')"
      ]
     },
     "execution_count": 68,
     "metadata": {},
     "output_type": "execute_result"
    }
   ],
   "source": [
    "clf.fit(data['train']['image'], data['train']['label'])"
   ]
  },
  {
   "cell_type": "code",
   "execution_count": null,
   "metadata": {},
   "outputs": [],
   "source": []
  },
  {
   "cell_type": "code",
   "execution_count": null,
   "metadata": {},
   "outputs": [],
   "source": []
  }
 ],
 "metadata": {
  "kernelspec": {
   "display_name": "Python 3",
   "language": "python",
   "name": "python3"
  },
  "language_info": {
   "codemirror_mode": {
    "name": "ipython",
    "version": 3
   },
   "file_extension": ".py",
   "mimetype": "text/x-python",
   "name": "python",
   "nbconvert_exporter": "python",
   "pygments_lexer": "ipython3",
   "version": "3.6.5"
  }
 },
 "nbformat": 4,
 "nbformat_minor": 2
}
