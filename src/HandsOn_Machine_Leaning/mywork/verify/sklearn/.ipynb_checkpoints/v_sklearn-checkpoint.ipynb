{
 "cells": [
  {
   "cell_type": "code",
   "execution_count": 7,
   "metadata": {},
   "outputs": [],
   "source": [
    "import numpy as np"
   ]
  },
  {
   "cell_type": "markdown",
   "metadata": {},
   "source": [
    "# StratifiedShuffleSplit\n",
    "* 引数：\n",
    "    1. n_splits：分割数（分割をする回数）\n",
    "    2. test_size：データ全体に対するテストデータの割合\n",
    "    3. random_state：乱数の初期化のための値\n",
    "## StratifiedShuffleSplit.split\n",
    "* 引数\n",
    "    1. 分割対象のデータ\n",
    "    2. データのグループ（分割時にグループの割合が保たれる）\n",
    "* 戻り値\n",
    "    * JavaでいうIterator的なオブジェクトが返却される\n",
    "    * 値の取得にはFor文を使う必要あり（それ以外の方法もある？）"
   ]
  },
  {
   "cell_type": "code",
   "execution_count": 8,
   "metadata": {},
   "outputs": [],
   "source": [
    "from sklearn.model_selection import StratifiedShuffleSplit"
   ]
  },
  {
   "cell_type": "code",
   "execution_count": 23,
   "metadata": {},
   "outputs": [],
   "source": [
    "data = np.array(['A', 'B', 'a', 'b'])\n",
    "group = np.array([0, 0, 1, 1])\n",
    "sss = StratifiedShuffleSplit(n_splits=5, test_size=0.5, random_state=0)"
   ]
  },
  {
   "cell_type": "code",
   "execution_count": 24,
   "metadata": {},
   "outputs": [
    {
     "name": "stdout",
     "output_type": "stream",
     "text": [
      "[1 2] ['B' 'a'] [3 0] ['b' 'A']\n",
      "[0 2] ['A' 'a'] [1 3] ['B' 'b']\n",
      "[0 2] ['A' 'a'] [3 1] ['b' 'B']\n",
      "[2 1] ['a' 'B'] [3 0] ['b' 'A']\n",
      "[3 1] ['b' 'B'] [0 2] ['A' 'a']\n"
     ]
    }
   ],
   "source": [
    "for train_index, test_index in sss.split(data, group):\n",
    "    print('%s %s %s %s' % (train_index, data[train_index], test_index, data[test_index]))"
   ]
  },
  {
   "cell_type": "code",
   "execution_count": null,
   "metadata": {},
   "outputs": [],
   "source": []
  },
  {
   "cell_type": "code",
   "execution_count": null,
   "metadata": {},
   "outputs": [],
   "source": []
  }
 ],
 "metadata": {
  "kernelspec": {
   "display_name": "Python 3",
   "language": "python",
   "name": "python3"
  },
  "language_info": {
   "codemirror_mode": {
    "name": "ipython",
    "version": 3
   },
   "file_extension": ".py",
   "mimetype": "text/x-python",
   "name": "python",
   "nbconvert_exporter": "python",
   "pygments_lexer": "ipython3",
   "version": "3.6.5"
  }
 },
 "nbformat": 4,
 "nbformat_minor": 2
}
