{
 "cells": [
  {
   "cell_type": "markdown",
   "metadata": {},
   "source": [
    "# SVM回帰の性能調査"
   ]
  },
  {
   "cell_type": "code",
   "execution_count": null,
   "metadata": {},
   "outputs": [],
   "source": [
    "import myutil\n",
    "import numpy as np\n",
    "from sklearn.tree import DecisionTreeRegressor\n",
    "from sklearn.metrics import mean_squared_error\n",
    "from sklearn import svm"
   ]
  },
  {
   "cell_type": "code",
   "execution_count": 2,
   "metadata": {},
   "outputs": [],
   "source": [
    "df = myutil.DataFactory()"
   ]
  },
  {
   "cell_type": "markdown",
   "metadata": {},
   "source": [
    "# 回帰木の学習\n",
    "* 回帰木とは？\n",
    " * 属性、属性値のカテゴリごとにツリーを生成\n",
    " * 枝ごとに値を推測する\n",
    " * https://mathwords.net/ketteigi"
   ]
  },
  {
   "cell_type": "code",
   "execution_count": 3,
   "metadata": {},
   "outputs": [
    {
     "name": "stdout",
     "output_type": "stream",
     "text": [
      "0.0\n"
     ]
    }
   ],
   "source": [
    "data_prepared, data_label = df.getPreparedDataSet()\n",
    "# モデルの訓練\n",
    "tree_reg = DecisionTreeRegressor()\n",
    "tree_reg.fit(data_prepared, data_label)\n",
    "# 訓練セットの評価\n",
    "data_predictions = tree_reg.predict(data_prepared)\n",
    "tree_mse  = mean_squared_error(data_label, data_predictions)\n",
    "tree_rmse = np.sqrt(tree_mse)\n",
    "print(tree_rmse)"
   ]
  },
  {
   "cell_type": "markdown",
   "metadata": {},
   "source": [
    "# SVMの学習\n",
    "* サポートベクトルマシンの略\n",
    "* 特徴\n",
    " * 局所解収束がない\n",
    " * データを２つに分類する問題に優れている\n",
    "  * 最適な分類境界線を探してくれる\n",
    "  * 多クラスの分類は苦手"
   ]
  },
  {
   "cell_type": "code",
   "execution_count": 4,
   "metadata": {},
   "outputs": [
    {
     "data": {
      "text/plain": [
       "SVC(C=1.0, cache_size=200, class_weight=None, coef0=0.0,\n",
       "  decision_function_shape='ovr', degree=3, gamma='auto', kernel='rbf',\n",
       "  max_iter=-1, probability=False, random_state=None, shrinking=True,\n",
       "  tol=0.001, verbose=False)"
      ]
     },
     "execution_count": 4,
     "metadata": {},
     "output_type": "execute_result"
    }
   ],
   "source": [
    "data_prepared, data_label = df.getPreparedDataSet()\n",
    "# モデルの選択\n",
    "svc = svm.SVC()\n",
    "# 学習\n",
    "svc.fit(data_prepared, data_label)"
   ]
  },
  {
   "cell_type": "code",
   "execution_count": null,
   "metadata": {},
   "outputs": [],
   "source": [
    "# 訓練セットの評価\n",
    "data_predictions_svc = svc.predict(data_prepared)\n",
    "svc_mse  = mean_squared_error(data_label, data_predictions_svc)\n",
    "svc_rmse = np.sqrt(svc_mse)\n",
    "print(svc_rmse)"
   ]
  },
  {
   "cell_type": "code",
   "execution_count": null,
   "metadata": {},
   "outputs": [],
   "source": []
  }
 ],
 "metadata": {
  "kernelspec": {
   "display_name": "Python 3",
   "language": "python",
   "name": "python3"
  },
  "language_info": {
   "codemirror_mode": {
    "name": "ipython",
    "version": 3
   },
   "file_extension": ".py",
   "mimetype": "text/x-python",
   "name": "python",
   "nbconvert_exporter": "python",
   "pygments_lexer": "ipython3",
   "version": "3.6.5"
  }
 },
 "nbformat": 4,
 "nbformat_minor": 2
}
