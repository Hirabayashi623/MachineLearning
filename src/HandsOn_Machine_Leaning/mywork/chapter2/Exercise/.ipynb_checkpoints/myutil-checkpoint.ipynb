{
 "cells": [
  {
   "cell_type": "code",
   "execution_count": 2,
   "metadata": {},
   "outputs": [],
   "source": [
    "import os\n",
    "import tarfile\n",
    "from six.moves import urllib"
   ]
  },
  {
   "cell_type": "markdown",
   "metadata": {},
   "source": [
    "データをダウンロードする"
   ]
  },
  {
   "cell_type": "code",
   "execution_count": 12,
   "metadata": {},
   "outputs": [],
   "source": [
    "DOWNLAD_ROOT = 'https://raw.githubusercontent.com/ageron/handson-ml/master/'\n",
    "HOUSING_PATH = os.path.join('datasets', 'housing')\n",
    "HOUSING_NAME = 'housing.tgz'\n",
    "HOUSING_FILE = os.path.join(HOUSING_PATH, 'housing.tgz')\n",
    "HOUSING_URL  = DOWNLAD_ROOT + 'datasets/housing/housing.tgz'"
   ]
  },
  {
   "cell_type": "code",
   "execution_count": 5,
   "metadata": {},
   "outputs": [],
   "source": [
    "def fetch_housing_data(housing_url=HOUSING_URL, housing_path=HOUSING_PATH, housing_name=HOUSING_NAME):\n",
    "    # ディレクトリが存在しなかったら作成する\n",
    "    if not os.path.isdir(housing_path):\n",
    "        os.makedirs(housing_path)\n",
    "    # 配置先のパスを指定\n",
    "    tgz_path = os.path.join(housing_path, housing_name)\n",
    "    # ダウンロード\n",
    "    urllib.request.urlretrieve(housing_url, tgz_path)\n",
    "    # .tarファイルオープン\n",
    "    housing_tgz = tarfile.open(tgz_path)\n",
    "    # 展開（解凍）\n",
    "    housing_tgz.extractall(path=housing_path)\n",
    "    # ファイルクローズ\n",
    "    housing_tgz.close()"
   ]
  },
  {
   "cell_type": "markdown",
   "metadata": {},
   "source": [
    "ダウンロード対象のファイルがすでに存在しているかチェックする"
   ]
  },
  {
   "cell_type": "code",
   "execution_count": 10,
   "metadata": {},
   "outputs": [],
   "source": [
    "def isDownloaded(path=HOUSING_FILE):\n",
    "    return os.path.isfile(path)"
   ]
  },
  {
   "cell_type": "markdown",
   "metadata": {},
   "source": [
    "未ダウンロードの場合ダウンロードする"
   ]
  },
  {
   "cell_type": "code",
   "execution_count": 13,
   "metadata": {},
   "outputs": [],
   "source": [
    "def checkAndDownload(housing_url=HOUSING_URL, housing_path=HOUSING_PATH, housing_name=HOUSING_NAME):\n",
    "    target = os.path.join(housing_path, housing_name)\n",
    "    if isDownloaded(target):\n",
    "        fetch_housing_data(housing_url, housing_path, housing_name)\n",
    "    else:\n",
    "        None"
   ]
  }
 ],
 "metadata": {
  "kernelspec": {
   "display_name": "Python 3",
   "language": "python",
   "name": "python3"
  },
  "language_info": {
   "codemirror_mode": {
    "name": "ipython",
    "version": 3
   },
   "file_extension": ".py",
   "mimetype": "text/x-python",
   "name": "python",
   "nbconvert_exporter": "python",
   "pygments_lexer": "ipython3",
   "version": "3.6.5"
  }
 },
 "nbformat": 4,
 "nbformat_minor": 2
}
