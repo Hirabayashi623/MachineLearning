{
 "cells": [
  {
   "cell_type": "code",
   "execution_count": 1,
   "metadata": {},
   "outputs": [],
   "source": [
    "import myutil\n",
    "import os\n",
    "import numpy as np\n",
    "from sklearn.tree import DecisionTreeRegressor\n",
    "from sklearn.metrics import mean_squared_error\n",
    "from sklearn import svm\n",
    "from sklearn.svm import SVR\n",
    "from sklearn.linear_model import LinearRegression\n",
    "from matplotlib import pyplot as plt"
   ]
  },
  {
   "cell_type": "code",
   "execution_count": 2,
   "metadata": {},
   "outputs": [],
   "source": [
    "df = myutil.DataFactory()\n",
    "# 可視化用に結果の保存先を用意\n",
    "results = []"
   ]
  },
  {
   "cell_type": "markdown",
   "metadata": {},
   "source": [
    "# データの調整\n",
    "* 目的\n",
    " * 不要な属性を削除する\n",
    " * 組み合わせることでより意味のある属性を追加する\n",
    "* 目標\n",
    " * 推測性能の向上\n",
    " * 処理時間の短縮"
   ]
  },
  {
   "cell_type": "markdown",
   "metadata": {},
   "source": [
    "### 初期状態"
   ]
  },
  {
   "cell_type": "code",
   "execution_count": 3,
   "metadata": {},
   "outputs": [
    {
     "name": "stdout",
     "output_type": "stream",
     "text": [
      "69050.98178244587\n"
     ]
    }
   ],
   "source": [
    "data_prepared, data_label = df.getPreparedDataSet()\n",
    "\n",
    "lin_reg = LinearRegression()\n",
    "lin_reg.fit(data_prepared, data_label)\n",
    "# 訓練データに対して予測値を求める\n",
    "data_predictions = lin_reg.predict(data_prepared)\n",
    "# 二乗誤差を求める\n",
    "lin_mse  = mean_squared_error(data_label, data_predictions)\n",
    "# 平均二乗誤差を求める\n",
    "lin_rmse = np.sqrt(lin_mse)\n",
    "print(lin_rmse)"
   ]
  },
  {
   "cell_type": "markdown",
   "metadata": {},
   "source": [
    "とりあえずワンホットエンコーディングしておく"
   ]
  },
  {
   "cell_type": "code",
   "execution_count": 4,
   "metadata": {},
   "outputs": [
    {
     "data": {
      "text/html": [
       "<div>\n",
       "<style scoped>\n",
       "    .dataframe tbody tr th:only-of-type {\n",
       "        vertical-align: middle;\n",
       "    }\n",
       "\n",
       "    .dataframe tbody tr th {\n",
       "        vertical-align: top;\n",
       "    }\n",
       "\n",
       "    .dataframe thead th {\n",
       "        text-align: right;\n",
       "    }\n",
       "</style>\n",
       "<table border=\"1\" class=\"dataframe\">\n",
       "  <thead>\n",
       "    <tr style=\"text-align: right;\">\n",
       "      <th></th>\n",
       "      <th>longitude</th>\n",
       "      <th>latitude</th>\n",
       "      <th>housing_median_age</th>\n",
       "      <th>total_rooms</th>\n",
       "      <th>total_bedrooms</th>\n",
       "      <th>population</th>\n",
       "      <th>households</th>\n",
       "      <th>median_income</th>\n",
       "      <th>median_house_value</th>\n",
       "      <th>NEAR BAY</th>\n",
       "      <th>&lt;1H OCEAN</th>\n",
       "      <th>INLAND</th>\n",
       "      <th>NEAR OCEAN</th>\n",
       "      <th>ISLAND</th>\n",
       "    </tr>\n",
       "  </thead>\n",
       "  <tbody>\n",
       "    <tr>\n",
       "      <th>0</th>\n",
       "      <td>-122.23</td>\n",
       "      <td>37.88</td>\n",
       "      <td>41.0</td>\n",
       "      <td>880.0</td>\n",
       "      <td>129.0</td>\n",
       "      <td>322.0</td>\n",
       "      <td>126.0</td>\n",
       "      <td>8.3252</td>\n",
       "      <td>452600.0</td>\n",
       "      <td>1</td>\n",
       "      <td>0</td>\n",
       "      <td>0</td>\n",
       "      <td>0</td>\n",
       "      <td>0</td>\n",
       "    </tr>\n",
       "    <tr>\n",
       "      <th>1</th>\n",
       "      <td>-122.22</td>\n",
       "      <td>37.86</td>\n",
       "      <td>21.0</td>\n",
       "      <td>7099.0</td>\n",
       "      <td>1106.0</td>\n",
       "      <td>2401.0</td>\n",
       "      <td>1138.0</td>\n",
       "      <td>8.3014</td>\n",
       "      <td>358500.0</td>\n",
       "      <td>1</td>\n",
       "      <td>0</td>\n",
       "      <td>0</td>\n",
       "      <td>0</td>\n",
       "      <td>0</td>\n",
       "    </tr>\n",
       "    <tr>\n",
       "      <th>2</th>\n",
       "      <td>-122.24</td>\n",
       "      <td>37.85</td>\n",
       "      <td>52.0</td>\n",
       "      <td>1467.0</td>\n",
       "      <td>190.0</td>\n",
       "      <td>496.0</td>\n",
       "      <td>177.0</td>\n",
       "      <td>7.2574</td>\n",
       "      <td>352100.0</td>\n",
       "      <td>1</td>\n",
       "      <td>0</td>\n",
       "      <td>0</td>\n",
       "      <td>0</td>\n",
       "      <td>0</td>\n",
       "    </tr>\n",
       "    <tr>\n",
       "      <th>3</th>\n",
       "      <td>-122.25</td>\n",
       "      <td>37.85</td>\n",
       "      <td>52.0</td>\n",
       "      <td>1274.0</td>\n",
       "      <td>235.0</td>\n",
       "      <td>558.0</td>\n",
       "      <td>219.0</td>\n",
       "      <td>5.6431</td>\n",
       "      <td>341300.0</td>\n",
       "      <td>1</td>\n",
       "      <td>0</td>\n",
       "      <td>0</td>\n",
       "      <td>0</td>\n",
       "      <td>0</td>\n",
       "    </tr>\n",
       "    <tr>\n",
       "      <th>4</th>\n",
       "      <td>-122.25</td>\n",
       "      <td>37.85</td>\n",
       "      <td>52.0</td>\n",
       "      <td>1627.0</td>\n",
       "      <td>280.0</td>\n",
       "      <td>565.0</td>\n",
       "      <td>259.0</td>\n",
       "      <td>3.8462</td>\n",
       "      <td>342200.0</td>\n",
       "      <td>1</td>\n",
       "      <td>0</td>\n",
       "      <td>0</td>\n",
       "      <td>0</td>\n",
       "      <td>0</td>\n",
       "    </tr>\n",
       "  </tbody>\n",
       "</table>\n",
       "</div>"
      ],
      "text/plain": [
       "   longitude  latitude  housing_median_age  total_rooms  total_bedrooms  \\\n",
       "0    -122.23     37.88                41.0        880.0           129.0   \n",
       "1    -122.22     37.86                21.0       7099.0          1106.0   \n",
       "2    -122.24     37.85                52.0       1467.0           190.0   \n",
       "3    -122.25     37.85                52.0       1274.0           235.0   \n",
       "4    -122.25     37.85                52.0       1627.0           280.0   \n",
       "\n",
       "   population  households  median_income  median_house_value NEAR BAY  \\\n",
       "0       322.0       126.0         8.3252            452600.0        1   \n",
       "1      2401.0      1138.0         8.3014            358500.0        1   \n",
       "2       496.0       177.0         7.2574            352100.0        1   \n",
       "3       558.0       219.0         5.6431            341300.0        1   \n",
       "4       565.0       259.0         3.8462            342200.0        1   \n",
       "\n",
       "  <1H OCEAN INLAND NEAR OCEAN ISLAND  \n",
       "0         0      0          0      0  \n",
       "1         0      0          0      0  \n",
       "2         0      0          0      0  \n",
       "3         0      0          0      0  \n",
       "4         0      0          0      0  "
      ]
     },
     "execution_count": 4,
     "metadata": {},
     "output_type": "execute_result"
    }
   ],
   "source": [
    "data1 = myutil.load_housing_data(os.path.join('datasets', 'housing', 'housing.csv'))\n",
    "for val in data1['ocean_proximity'].unique():\n",
    "    data1[val] = data1['ocean_proximity'].where(data1['ocean_proximity'] == val, 0)\n",
    "    data1[val].where(data1[val]==0, 1, inplace=True)\n",
    "data1.drop('ocean_proximity', axis=1, inplace=True)\n",
    "data1.head()"
   ]
  },
  {
   "cell_type": "markdown",
   "metadata": {},
   "source": [
    "## 属性の相対的な重要性の大小を調べる\n",
    "* RandomForestRegressorの実施　⇒　重要性見てみる"
   ]
  },
  {
   "cell_type": "code",
   "execution_count": 5,
   "metadata": {},
   "outputs": [],
   "source": [
    "data1_train, data1_test = df.split_dataset(data1)\n",
    "data1_label, data1_train = df.split_label(data1_train, 'median_house_value')"
   ]
  },
  {
   "cell_type": "code",
   "execution_count": 6,
   "metadata": {},
   "outputs": [],
   "source": [
    "from sklearn.preprocessing import Imputer, StandardScaler\n",
    "from sklearn.pipeline import Pipeline\n",
    "\n",
    "# 必要最小限のパイプラインの実装\n",
    "pipeline_min = Pipeline([\n",
    "    ('imputer', Imputer(strategy='median')),\n",
    "    ('std_encoder', StandardScaler()),\n",
    "])"
   ]
  },
  {
   "cell_type": "code",
   "execution_count": 7,
   "metadata": {},
   "outputs": [],
   "source": [
    "data1_prepared = pipeline_min.fit_transform(data1_train)"
   ]
  },
  {
   "cell_type": "code",
   "execution_count": 8,
   "metadata": {},
   "outputs": [
    {
     "data": {
      "text/plain": [
       "GridSearchCV(cv=5, error_score='raise',\n",
       "       estimator=RandomForestRegressor(bootstrap=True, criterion='mse', max_depth=None,\n",
       "           max_features='auto', max_leaf_nodes=None,\n",
       "           min_impurity_decrease=0.0, min_impurity_split=None,\n",
       "           min_samples_leaf=1, min_samples_split=2,\n",
       "           min_weight_fraction_leaf=0.0, n_estimators=10, n_jobs=1,\n",
       "           oob_score=False, random_state=None, verbose=0, warm_start=False),\n",
       "       fit_params=None, iid=True, n_jobs=1,\n",
       "       param_grid=[{'n_estimators': [3, 10, 30], 'max_features': [2, 4, 6, 8, 10]}],\n",
       "       pre_dispatch='2*n_jobs', refit=True, return_train_score='warn',\n",
       "       scoring='neg_mean_squared_error', verbose=0)"
      ]
     },
     "execution_count": 8,
     "metadata": {},
     "output_type": "execute_result"
    }
   ],
   "source": [
    "from sklearn.model_selection import GridSearchCV\n",
    "from sklearn.ensemble        import RandomForestRegressor\n",
    "\n",
    "# グリッドサーチ\n",
    "param_grid = [\n",
    "    {'n_estimators': [3, 10, 30], 'max_features': [2, 4, 6, 8, 10]},\n",
    "]\n",
    "\n",
    "forest_reg = RandomForestRegressor()\n",
    "\n",
    "grid_search = GridSearchCV(forest_reg, param_grid, cv=5, scoring='neg_mean_squared_error')\n",
    "\n",
    "grid_search.fit(data1_prepared, data1_label)"
   ]
  },
  {
   "cell_type": "code",
   "execution_count": 9,
   "metadata": {},
   "outputs": [
    {
     "data": {
      "text/plain": [
       "{'max_features': 10, 'n_estimators': 30}"
      ]
     },
     "execution_count": 9,
     "metadata": {},
     "output_type": "execute_result"
    }
   ],
   "source": [
    "# 結果を確認する\n",
    "grid_search.best_params_"
   ]
  },
  {
   "cell_type": "code",
   "execution_count": 10,
   "metadata": {},
   "outputs": [],
   "source": [
    "# 最良の測定器をとりあえず保存\n",
    "best_estimator = grid_search.best_estimator_"
   ]
  },
  {
   "cell_type": "code",
   "execution_count": 11,
   "metadata": {},
   "outputs": [
    {
     "name": "stdout",
     "output_type": "stream",
     "text": [
      "['data1', 19234.49888783583]\n"
     ]
    }
   ],
   "source": [
    "data1_predictions = best_estimator.predict(data1_prepared)\n",
    "data1_mse  = mean_squared_error(data1_label, data1_predictions)\n",
    "data1_rmse = np.sqrt(data1_mse)\n",
    "result1 = ['data1', data1_rmse]\n",
    "\n",
    "print(result1)"
   ]
  },
  {
   "cell_type": "code",
   "execution_count": 12,
   "metadata": {},
   "outputs": [],
   "source": [
    "results.append(result1)"
   ]
  },
  {
   "cell_type": "code",
   "execution_count": 13,
   "metadata": {},
   "outputs": [
    {
     "data": {
      "text/plain": [
       "array([1.07077746e-01, 9.94396085e-02, 5.29546036e-02, 2.62966416e-02,\n",
       "       2.50864544e-02, 3.40959516e-02, 2.31168775e-02, 4.75086643e-01,\n",
       "       1.19004102e-03, 7.25653557e-03, 1.41389074e-01, 6.90799161e-03,\n",
       "       1.01831817e-04])"
      ]
     },
     "execution_count": 13,
     "metadata": {},
     "output_type": "execute_result"
    }
   ],
   "source": [
    "# 重要度を確認\n",
    "feature_importances = best_estimator.feature_importances_\n",
    "feature_importances"
   ]
  },
  {
   "cell_type": "code",
   "execution_count": 14,
   "metadata": {},
   "outputs": [
    {
     "name": "stdout",
     "output_type": "stream",
     "text": [
      "size:  13 \n",
      "list:  ['longitude', 'latitude', 'housing_median_age', 'total_rooms', 'total_bedrooms', 'population', 'households', 'median_income', 'NEAR BAY', '<1H OCEAN', 'INLAND', 'NEAR OCEAN', 'ISLAND']\n"
     ]
    }
   ],
   "source": [
    "print('size: ', len(list(data1_train)), '\\nlist: ' ,list(data1_train))"
   ]
  },
  {
   "cell_type": "code",
   "execution_count": 15,
   "metadata": {},
   "outputs": [
    {
     "data": {
      "image/png": "[encoded data removed]",
      "text/plain": [
       "<Figure size 432x288 with 1 Axes>"
      ]
     },
     "metadata": {},
     "output_type": "display_data"
    }
   ],
   "source": [
    "plt.bar(list(data1_train), feature_importances)\n",
    "plt.xticks(rotation=90)\n",
    "# plt.yscale(\"log\")\n",
    "plt.show()"
   ]
  },
  {
   "cell_type": "markdown",
   "metadata": {},
   "source": [
    "### 考察\n",
    "* カテゴリ属性\n",
    " * 「INLAND」は重要そうな属性\n",
    " *  その他の属性は不要そう\n",
    "* 重要度が低めの属性\n",
    " * 「世帯数」「寝室の合計」「部屋数の合計」「人口」「世帯内の年齢の中央値」\n",
    " * 組み合わせを考えてみる　⇒　その結果重要度が大きくなれば入れ替えとか\n",
    "  * 「人口／世帯数」　　　　⇒「１世帯当たりの人数」\n",
    "  * 「部屋数の合計／世帯数」⇒「１世帯当たりの部屋数」\n",
    "  * 「寝室の合計／世帯数」　⇒「１世帯当たりの寝室数」\n",
    "  * 「寝室数／部屋数」　　　⇒「寝室の割合」\n",
    "  * 「部屋数の合計／人口」　⇒「１人当たりの部屋数」"
   ]
  },
  {
   "cell_type": "code",
   "execution_count": 16,
   "metadata": {},
   "outputs": [],
   "source": [
    "# とりあえずコピー\n",
    "data2_train = data1_train.copy()\n",
    "data2_label = data1_label.copy()"
   ]
  },
  {
   "cell_type": "code",
   "execution_count": 17,
   "metadata": {},
   "outputs": [],
   "source": [
    "# 不要な属性を落とす\n",
    "data2_train.drop(['NEAR BAY', '<1H OCEAN', 'NEAR OCEAN', 'ISLAND'], axis=1, inplace=True)"
   ]
  },
  {
   "cell_type": "code",
   "execution_count": 18,
   "metadata": {},
   "outputs": [
    {
     "name": "stdout",
     "output_type": "stream",
     "text": [
      "['longitude', 'latitude', 'housing_median_age', 'total_rooms', 'total_bedrooms', 'population', 'households', 'median_income', 'INLAND']\n"
     ]
    }
   ],
   "source": [
    "print(list(data2_train))"
   ]
  },
  {
   "cell_type": "code",
   "execution_count": 19,
   "metadata": {},
   "outputs": [],
   "source": [
    "# 複合属性を追加する\n",
    "data2_train['population_p_households'] = data2_train['population'] / data2_train['households']\n",
    "data2_train['rooms_p_households'] = data2_train['total_rooms'] / data2_train['households']\n",
    "data2_train['bedrooms_p_households'] = data2_train['total_bedrooms'] / data2_train['households']\n",
    "data2_train['bedrooms_p_rooms'] = data2_train['total_bedrooms'] / data2_train['total_rooms']\n",
    "data2_train['rooms_p_population'] = data2_train['total_rooms'] / data2_train['population']"
   ]
  },
  {
   "cell_type": "code",
   "execution_count": 20,
   "metadata": {},
   "outputs": [
    {
     "data": {
      "image/png": "[encoded data removed]",
      "text/plain": [
       "<Figure size 432x288 with 1 Axes>"
      ]
     },
     "metadata": {},
     "output_type": "display_data"
    }
   ],
   "source": [
    "# 相関を見てみる\n",
    "data2_train['label'] = data2_label\n",
    "x_label = np.array(list(data2_train))\n",
    "x_label = np.delete(x_label, np.where(x_label=='INLAND'))\n",
    "height  = np.array(data2_train.corr()['label'])\n",
    "\n",
    "# 相関の昇順で並び替え\n",
    "data2_plot = np.array([np.abs(height), x_label])\n",
    "data2_plot = data2_plot[:, np.argsort(data2_plot)[0]]\n",
    "\n",
    "plt.bar(data2_plot[1], [float(str) for str in data2_plot[0]])\n",
    "plt.xticks(rotation=90)\n",
    "plt.yscale('log')\n",
    "plt.show()\n",
    "data2_train.drop('label', axis=1, inplace=True)"
   ]
  },
  {
   "cell_type": "code",
   "execution_count": 21,
   "metadata": {},
   "outputs": [
    {
     "name": "stdout",
     "output_type": "stream",
     "text": [
      "['data2', 19527.449866181865]\n"
     ]
    }
   ],
   "source": [
    "# データの準備\n",
    "data2_prepared = pipeline_min.fit_transform(data2_train)\n",
    "# グリッドサーチ\n",
    "grid_search.fit(data2_prepared, data2_label)\n",
    "best_estimator = grid_search.best_estimator_\n",
    "# 計測\n",
    "data2_predictions = best_estimator.predict(data2_prepared)\n",
    "data2_mse  = mean_squared_error(data2_label, data2_predictions)\n",
    "data2_rmse = np.sqrt(data2_mse)\n",
    "result2 = ['data2', data2_rmse]\n",
    "\n",
    "print(result2)"
   ]
  },
  {
   "cell_type": "code",
   "execution_count": 22,
   "metadata": {},
   "outputs": [
    {
     "data": {
      "image/png": "[encoded data removed]",
      "text/plain": [
       "<Figure size 432x288 with 1 Axes>"
      ]
     },
     "metadata": {},
     "output_type": "display_data"
    }
   ],
   "source": [
    "# 重要度を確認\n",
    "feature_importances = best_estimator.feature_importances_\n",
    "index = np.array(feature_importances)\n",
    "index = np.argsort(index)\n",
    "\n",
    "# plt.bar(list(data2_train), feature_importances)\n",
    "plt.bar(np.array(list(data2_train))[index], np.array(feature_importances)[index])\n",
    "plt.xticks(rotation=90)\n",
    "plt.yscale('log')\n",
    "plt.show()"
   ]
  },
  {
   "cell_type": "code",
   "execution_count": 23,
   "metadata": {},
   "outputs": [],
   "source": [
    "results.append(result2)"
   ]
  },
  {
   "cell_type": "code",
   "execution_count": 24,
   "metadata": {},
   "outputs": [
    {
     "name": "stdout",
     "output_type": "stream",
     "text": [
      "[['data1', 19234.49888783583], ['data2', 19527.449866181865]]\n"
     ]
    }
   ],
   "source": [
    "print(results)"
   ]
  },
  {
   "cell_type": "markdown",
   "metadata": {},
   "source": [
    "## 重要度が小さい属性を削除してみる"
   ]
  },
  {
   "cell_type": "code",
   "execution_count": 25,
   "metadata": {},
   "outputs": [],
   "source": [
    "data3_train = data2_train.copy()\n",
    "data3_label = data2_label.copy()"
   ]
  },
  {
   "cell_type": "code",
   "execution_count": 26,
   "metadata": {},
   "outputs": [
    {
     "data": {
      "text/plain": [
       "['longitude',\n",
       " 'latitude',\n",
       " 'housing_median_age',\n",
       " 'median_income',\n",
       " 'INLAND',\n",
       " 'population_p_households',\n",
       " 'rooms_p_households',\n",
       " 'bedrooms_p_households',\n",
       " 'bedrooms_p_rooms',\n",
       " 'rooms_p_population']"
      ]
     },
     "execution_count": 26,
     "metadata": {},
     "output_type": "execute_result"
    }
   ],
   "source": [
    "# 重要度が低い属性の削除\n",
    "drop_list = ['population', 'total_bedrooms', 'total_rooms', 'households']\n",
    "data3_train.drop(drop_list, axis=1, inplace=True)\n",
    "list(data3_train)"
   ]
  },
  {
   "cell_type": "code",
   "execution_count": 27,
   "metadata": {},
   "outputs": [
    {
     "name": "stdout",
     "output_type": "stream",
     "text": [
      "['data3', 19145.37117875077]\n"
     ]
    }
   ],
   "source": [
    "# データ準備\n",
    "data3_prepared = pipeline_min.fit_transform(data3_train)\n",
    "# グリッドサーチ\n",
    "grid_search.fit(data3_prepared, data3_label)\n",
    "best_estimator = grid_search.best_estimator_\n",
    "# 計測\n",
    "data3_predictions = best_estimator.predict(data3_prepared)\n",
    "data3_mse  = mean_squared_error(data3_label, data3_predictions)\n",
    "data3_rmse = np.sqrt(data3_mse)\n",
    "result3 = ['data3', data3_rmse]\n",
    "\n",
    "print(result3)"
   ]
  },
  {
   "cell_type": "code",
   "execution_count": 28,
   "metadata": {},
   "outputs": [],
   "source": [
    "results.append(result3)"
   ]
  },
  {
   "cell_type": "code",
   "execution_count": 29,
   "metadata": {},
   "outputs": [
    {
     "name": "stdout",
     "output_type": "stream",
     "text": [
      "[['data1', 19234.49888783583], ['data2', 19527.449866181865], ['data3', 19145.37117875077]]\n"
     ]
    }
   ],
   "source": [
    "print(results)"
   ]
  },
  {
   "cell_type": "code",
   "execution_count": 30,
   "metadata": {},
   "outputs": [
    {
     "data": {
      "image/png": "[encoded data removed]",
      "text/plain": [
       "<Figure size 432x288 with 1 Axes>"
      ]
     },
     "metadata": {},
     "output_type": "display_data"
    }
   ],
   "source": [
    "data_plot = np.array(results)\n",
    "data_plot = data_plot.T\n",
    "plt.bar(data_plot[0], [float(str) for str in data_plot[1]])\n",
    "plt.yscale('log')\n",
    "plt.show()"
   ]
  },
  {
   "cell_type": "code",
   "execution_count": null,
   "metadata": {},
   "outputs": [],
   "source": []
  }
 ],
 "metadata": {
  "kernelspec": {
   "display_name": "Python 3",
   "language": "python",
   "name": "python3"
  },
  "language_info": {
   "codemirror_mode": {
    "name": "ipython",
    "version": 3
   },
   "file_extension": ".py",
   "mimetype": "text/x-python",
   "name": "python",
   "nbconvert_exporter": "python",
   "pygments_lexer": "ipython3",
   "version": "3.6.5"
  }
 },
 "nbformat": 4,
 "nbformat_minor": 2
}
